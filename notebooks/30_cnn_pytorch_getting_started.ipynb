{
 "cells": [
  {
   "cell_type": "markdown",
   "id": "562b56de-d1f0-46cd-a5d6-9decf518eb51",
   "metadata": {},
   "source": [
    "# PyTorch getting started"
   ]
  },
  {
   "cell_type": "code",
   "execution_count": 1,
   "id": "d0c09da4-85dc-48f3-9f28-0e8878181ee8",
   "metadata": {},
   "outputs": [
    {
     "name": "stdout",
     "output_type": "stream",
     "text": [
      "Using device: cpu\n"
     ]
    }
   ],
   "source": [
    "import torch\n",
    "\n",
    "# We use torchvision to get our dataset and useful image transformations\n",
    "import torchvision\n",
    "import torchvision.transforms as transforms\n",
    "\n",
    "# nn is used as the basic building block for our Network graphs\n",
    "import torch.optim as optim\n",
    "import torch.nn as nn\n",
    "\n",
    "# check if cuda is usable\n",
    "if torch.cuda.is_available():\n",
    "  device = 'cuda' \n",
    "else:\n",
    "  device = 'cpu' \n",
    "\n",
    "print(f\"Using device: {device}\")"
   ]
  },
  {
   "cell_type": "code",
   "execution_count": null,
   "id": "74db1408-d527-40ef-9767-87455ad3bc94",
   "metadata": {},
   "outputs": [],
   "source": []
  }
 ],
 "metadata": {
  "kernelspec": {
   "display_name": "Python 3 (ipykernel)",
   "language": "python",
   "name": "python3"
  },
  "language_info": {
   "codemirror_mode": {
    "name": "ipython",
    "version": 3
   },
   "file_extension": ".py",
   "mimetype": "text/x-python",
   "name": "python",
   "nbconvert_exporter": "python",
   "pygments_lexer": "ipython3",
   "version": "3.9.13"
  }
 },
 "nbformat": 4,
 "nbformat_minor": 5
}
