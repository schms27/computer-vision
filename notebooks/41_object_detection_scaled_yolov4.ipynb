{
 "cells": [
  {
   "cell_type": "markdown",
   "id": "562b56de-d1f0-46cd-a5d6-9decf518eb51",
   "metadata": {},
   "source": [
    "# PyTorch Object detection with ScaledYolov4\n",
    "\n",
    "We can use Scaled Yolov4 to run our first object detector."
   ]
  },
  {
   "cell_type": "code",
   "execution_count": 2,
   "id": "ac1edf75-99e3-40ed-984b-2d182849d6f5",
   "metadata": {},
   "outputs": [],
   "source": [
    "import numpy as np\n",
    "import torch\n",
    "import torch.nn as nn\n",
    "from torchvision import transforms, datasets\n",
    "import torch.nn.functional as F\n",
    "import torchvision.models as models\n",
    "\n",
    "from PIL import Image, ImageFilter, ImageChops\n",
    "from tqdm.notebook import tqdm\n",
    "import matplotlib.pyplot as plt\n",
    "\n",
    "from torch.utils.data import DataLoader, Dataset\n",
    "from torchvision.utils import make_grid\n",
    "from torchvision.datasets import ImageFolder\n",
    "from torchvision.datasets.utils import download_and_extract_archive\n",
    "\n",
    "import requests\n",
    "import copy\n",
    "import os\n",
    "import random\n",
    "from io import BytesIO\n",
    "\n",
    "device = torch.device(\"cuda\" if torch.cuda.is_available() else \"cpu\")"
   ]
  },
  {
   "cell_type": "markdown",
   "id": "a37ef453-6cf1-49b9-8c27-bed0d6793d78",
   "metadata": {},
   "source": [
    "## Dependencies"
   ]
  },
  {
   "cell_type": "markdown",
   "id": "5b9e6140-dafc-4d3d-abee-961d165380d3",
   "metadata": {},
   "source": [
    "### Install ScaledYoloV4"
   ]
  },
  {
   "cell_type": "code",
   "execution_count": 3,
   "id": "d2ce4518-1932-4f3f-9e4b-f095d64678fc",
   "metadata": {},
   "outputs": [
    {
     "name": "stdout",
     "output_type": "stream",
     "text": [
      "fatal: destination path 'ScaledYOLOv4' already exists and is not an empty directory.\n",
      "/app/notebooks/ScaledYOLOv4\n",
      "Branch 'yolov4-large' set up to track remote branch 'yolov4-large' from 'origin'.\n",
      "Switched to a new branch 'yolov4-large'\n"
     ]
    }
   ],
   "source": [
    "!git clone https://github.com/roboflow-ai/ScaledYOLOv4.git\n",
    "\n",
    "%cd ./ScaledYOLOv4/\n",
    "!git checkout yolov4-large"
   ]
  },
  {
   "cell_type": "markdown",
   "id": "2043b078-3859-4803-baac-16e5efa3252a",
   "metadata": {},
   "source": [
    "### Install mish activation function"
   ]
  },
  {
   "cell_type": "code",
   "execution_count": 8,
   "id": "c17d9e52-60ba-45f7-a412-c4ae7c35c045",
   "metadata": {},
   "outputs": [
    {
     "name": "stdout",
     "output_type": "stream",
     "text": [
      "/app/notebooks\n",
      "\u001b[0m\u001b[01;32m01_getting_started_opencv_image_loading.ipynb\u001b[0m*\n",
      "02_color_spaces.ipynb\n",
      "03_draw_to_image.ipynb\n",
      "04_transformations.ipynb\n",
      "05_arithmetic_ops.ipynb\n",
      "06_thresholding_conv_sharpening_blurring.ipynb.ipynb\n",
      "\u001b[01;32m07_morphology.ipynb\u001b[0m*\n",
      "08_contours.ipynb\n",
      "09_hough_and_blob.ipynb\n",
      "10_simple_feature_detection_template_matching.ipynb\n",
      "11_haar_cascade_detector.ipynb\n",
      "12_object_tracking.ipynb\n",
      "13_facial_landmark_detection.ipynb\n",
      "14_video_streaming.ipynb\n",
      "\u001b[01;32m30_cnn_pytorch_mnist.ipynb\u001b[0m*\n",
      "\u001b[01;32m31_pytorch_regularization.ipynb\u001b[0m*\n",
      "\u001b[01;32m32_pytorch_filter_visualization.ipynb\u001b[0m*\n",
      "\u001b[01;32m33_pytorch_load_pretrained_cnns.ipynb\u001b[0m*\n",
      "\u001b[01;32m34_pytorch_lightning.ipynb\u001b[0m*\n",
      "\u001b[01;32m35_pytorch_lightning_transfer_learning.ipynb\u001b[0m*\n",
      "36_pytorch_deep_dream.ipynb\n",
      "37_autoencoder.ipynb\n",
      "\u001b[01;32m38_gan.ipynb\u001b[0m*\n",
      "39_siamese_networks.ipynb\n",
      "40_face_recognition.ipynb\n",
      "40_face_recognition_new.ipynb\n",
      "41_object_detection_scaled_yolov4.ipynb\n",
      "\u001b[01;34mImageNetV2-matched-frequency\u001b[0m/\n",
      "ImageNetV2-matched-frequency.tar.gz\n",
      "ImageNetV2-val.tar.gz\n",
      "\u001b[01;34mMNIST\u001b[0m/\n",
      "\u001b[01;34mScaledYOLOv4\u001b[0m/\n",
      "\u001b[01;34mlightning_logs\u001b[0m/\n",
      "\u001b[01;34mmodels\u001b[0m/\n",
      "\u001b[01;34mout\u001b[0m/\n",
      "\u001b[01;34mtmp\u001b[0m/\n",
      "Cloning into 'mish-cuda'...\n",
      "remote: Enumerating objects: 195, done.\u001b[K\n",
      "remote: Counting objects: 100% (26/26), done.\u001b[K\n",
      "remote: Compressing objects: 100% (6/6), done.\u001b[K\n",
      "remote: Total 195 (delta 20), reused 20 (delta 20), pack-reused 169\u001b[K\n",
      "Receiving objects: 100% (195/195), 203.57 KiB | 3.08 MiB/s, done.\n",
      "Resolving deltas: 100% (64/64), done.\n",
      "/app/notebooks/mish-cuda\n",
      "No CUDA runtime is found, using CUDA_HOME='/usr/local/cuda'\n",
      "/home/user/mambaforge/lib/python3.9/site-packages/setuptools/_distutils/extension.py:131: UserWarning: Unknown Extension options: 'headers'\n",
      "  warnings.warn(msg)\n",
      "running build\n",
      "running build_py\n",
      "creating build\n",
      "creating build/lib.linux-x86_64-cpython-39\n",
      "creating build/lib.linux-x86_64-cpython-39/mish_cuda\n",
      "copying src/mish_cuda/__init__.py -> build/lib.linux-x86_64-cpython-39/mish_cuda\n",
      "running egg_info\n",
      "creating src/mish_cuda.egg-info\n",
      "writing src/mish_cuda.egg-info/PKG-INFO\n",
      "writing dependency_links to src/mish_cuda.egg-info/dependency_links.txt\n",
      "writing requirements to src/mish_cuda.egg-info/requires.txt\n",
      "writing top-level names to src/mish_cuda.egg-info/top_level.txt\n",
      "writing manifest file 'src/mish_cuda.egg-info/SOURCES.txt'\n",
      "/home/user/mambaforge/lib/python3.9/site-packages/torch/utils/cpp_extension.py:476: UserWarning: Attempted to use ninja as the BuildExtension backend but we could not find ninja.. Falling back to using the slow distutils backend.\n",
      "  warnings.warn(msg.format('we could not find ninja.'))\n",
      "reading manifest file 'src/mish_cuda.egg-info/SOURCES.txt'\n",
      "adding license file 'LICENSE'\n",
      "writing manifest file 'src/mish_cuda.egg-info/SOURCES.txt'\n",
      "running build_ext\n",
      "error: [Errno 2] No such file or directory: '/usr/local/cuda/bin/nvcc'\n"
     ]
    }
   ],
   "source": [
    "%cd /app/notebooks\n",
    "%ls\n",
    "!git clone https://github.com/JunnYu/mish-cuda\n",
    "%cd mish-cuda\n",
    "!python setup.py build install"
   ]
  },
  {
   "cell_type": "code",
   "execution_count": 9,
   "id": "cae0d91b-5347-42d1-9d96-ead6cf2e7213",
   "metadata": {},
   "outputs": [
    {
     "name": "stdout",
     "output_type": "stream",
     "text": [
      "Requirement already satisfied: PyYAML in /home/user/mambaforge/lib/python3.9/site-packages (6.0)\n",
      "Collecting PyYAML\n",
      "  Obtaining dependency information for PyYAML from https://files.pythonhosted.org/packages/7d/39/472f2554a0f1e825bd7c5afc11c817cd7a2f3657460f7159f691fbb37c51/PyYAML-6.0.1-cp39-cp39-manylinux_2_17_x86_64.manylinux2014_x86_64.whl.metadata\n",
      "  Downloading PyYAML-6.0.1-cp39-cp39-manylinux_2_17_x86_64.manylinux2014_x86_64.whl.metadata (2.1 kB)\n",
      "Downloading PyYAML-6.0.1-cp39-cp39-manylinux_2_17_x86_64.manylinux2014_x86_64.whl (738 kB)\n",
      "\u001b[2K   \u001b[90m━━━━━━━━━━━━━━━━━━━━━━━━━━━━━━━━━━━━━━━━\u001b[0m \u001b[32m738.9/738.9 kB\u001b[0m \u001b[31m13.9 MB/s\u001b[0m eta \u001b[36m0:00:00\u001b[0ma \u001b[36m0:00:01\u001b[0m\n",
      "\u001b[?25hInstalling collected packages: PyYAML\n",
      "  Attempting uninstall: PyYAML\n",
      "    Found existing installation: PyYAML 6.0\n",
      "    Uninstalling PyYAML-6.0:\n",
      "      Successfully uninstalled PyYAML-6.0\n",
      "Successfully installed PyYAML-6.0.1\n"
     ]
    }
   ],
   "source": [
    "!pip install -U PyYAML"
   ]
  },
  {
   "cell_type": "code",
   "execution_count": 10,
   "id": "8f169759-4427-4000-9336-5d9cf20ee0ae",
   "metadata": {},
   "outputs": [
    {
     "name": "stdout",
     "output_type": "stream",
     "text": [
      "/app/notebooks/ScaledYOLOv4\n"
     ]
    }
   ],
   "source": [
    "%cd /app/notebooks/ScaledYOLOv4/"
   ]
  },
  {
   "cell_type": "markdown",
   "id": "fd1998a7-9235-4492-a41a-0b4ce309e4b0",
   "metadata": {},
   "source": [
    "## Download dataset\n",
    "We use a public dataset from roboflow which contains annotated images of handguns.\n",
    "\n",
    "https://public.roboflow.com/object-detection/pistols/1\n",
    "\n",
    "For the following to work, you need a roboflow account and fill in your api_key:"
   ]
  },
  {
   "cell_type": "code",
   "execution_count": 11,
   "id": "89e99d00-176e-40ef-abf8-0da9da1101d4",
   "metadata": {},
   "outputs": [
    {
     "name": "stdout",
     "output_type": "stream",
     "text": [
      "Collecting roboflow\n",
      "  Obtaining dependency information for roboflow from https://files.pythonhosted.org/packages/ca/02/f34b5111890e235b831596cc596b219148ad8aa6b45939f2dc6d68da3404/roboflow-1.1.2-py3-none-any.whl.metadata\n",
      "  Downloading roboflow-1.1.2-py3-none-any.whl.metadata (7.6 kB)\n",
      "Collecting certifi==2022.12.7 (from roboflow)\n",
      "  Downloading certifi-2022.12.7-py3-none-any.whl (155 kB)\n",
      "\u001b[2K     \u001b[90m━━━━━━━━━━━━━━━━━━━━━━━━━━━━━━━━━━━━━━━\u001b[0m \u001b[32m155.3/155.3 kB\u001b[0m \u001b[31m8.2 MB/s\u001b[0m eta \u001b[36m0:00:00\u001b[0m\n",
      "\u001b[?25hCollecting chardet==4.0.0 (from roboflow)\n",
      "  Downloading chardet-4.0.0-py2.py3-none-any.whl (178 kB)\n",
      "\u001b[2K     \u001b[90m━━━━━━━━━━━━━━━━━━━━━━━━━━━━━━━━━━━━━━\u001b[0m \u001b[32m178.7/178.7 kB\u001b[0m \u001b[31m20.8 MB/s\u001b[0m eta \u001b[36m0:00:00\u001b[0m\n",
      "\u001b[?25hCollecting cycler==0.10.0 (from roboflow)\n",
      "  Downloading cycler-0.10.0-py2.py3-none-any.whl (6.5 kB)\n",
      "Collecting idna==2.10 (from roboflow)\n",
      "  Downloading idna-2.10-py2.py3-none-any.whl (58 kB)\n",
      "\u001b[2K     \u001b[90m━━━━━━━━━━━━━━━━━━━━━━━━━━━━━━━━━━━━━━━━\u001b[0m \u001b[32m58.8/58.8 kB\u001b[0m \u001b[31m8.1 MB/s\u001b[0m eta \u001b[36m0:00:00\u001b[0m\n",
      "\u001b[?25hRequirement already satisfied: kiwisolver>=1.3.1 in /home/user/mambaforge/lib/python3.9/site-packages (from roboflow) (1.4.4)\n",
      "Requirement already satisfied: matplotlib in /home/user/mambaforge/lib/python3.9/site-packages (from roboflow) (3.7.2)\n",
      "Requirement already satisfied: numpy>=1.18.5 in /home/user/mambaforge/lib/python3.9/site-packages (from roboflow) (1.25.1)\n",
      "Requirement already satisfied: opencv-python>=4.1.2 in /home/user/mambaforge/lib/python3.9/site-packages (from roboflow) (4.7.0)\n",
      "Requirement already satisfied: Pillow>=7.1.2 in /home/user/mambaforge/lib/python3.9/site-packages (from roboflow) (9.4.0)\n",
      "Collecting pyparsing==2.4.7 (from roboflow)\n",
      "  Downloading pyparsing-2.4.7-py2.py3-none-any.whl (67 kB)\n",
      "\u001b[2K     \u001b[90m━━━━━━━━━━━━━━━━━━━━━━━━━━━━━━━━━━━━━━━━\u001b[0m \u001b[32m67.8/67.8 kB\u001b[0m \u001b[31m9.9 MB/s\u001b[0m eta \u001b[36m0:00:00\u001b[0m\n",
      "\u001b[?25hRequirement already satisfied: python-dateutil in /home/user/mambaforge/lib/python3.9/site-packages (from roboflow) (2.8.2)\n",
      "Collecting python-dotenv (from roboflow)\n",
      "  Downloading python_dotenv-1.0.0-py3-none-any.whl (19 kB)\n",
      "Requirement already satisfied: requests in /home/user/mambaforge/lib/python3.9/site-packages (from roboflow) (2.31.0)\n",
      "Requirement already satisfied: six in /home/user/mambaforge/lib/python3.9/site-packages (from roboflow) (1.16.0)\n",
      "Collecting supervision (from roboflow)\n",
      "  Obtaining dependency information for supervision from https://files.pythonhosted.org/packages/3a/22/401ee57f125dfffabab7151be185777789484fdd894aa149cafbc6104319/supervision-0.12.0-py3-none-any.whl.metadata\n",
      "  Downloading supervision-0.12.0-py3-none-any.whl.metadata (12 kB)\n",
      "Requirement already satisfied: urllib3>=1.26.6 in /home/user/mambaforge/lib/python3.9/site-packages (from roboflow) (1.26.9)\n",
      "Collecting wget (from roboflow)\n",
      "  Downloading wget-3.2.zip (10 kB)\n",
      "  Preparing metadata (setup.py) ... \u001b[?25ldone\n",
      "\u001b[?25hRequirement already satisfied: tqdm>=4.41.0 in /home/user/mambaforge/lib/python3.9/site-packages (from roboflow) (4.65.0)\n",
      "Requirement already satisfied: PyYAML>=5.3.1 in /home/user/mambaforge/lib/python3.9/site-packages (from roboflow) (6.0.1)\n",
      "Requirement already satisfied: requests-toolbelt in /home/user/mambaforge/lib/python3.9/site-packages (from roboflow) (1.0.0)\n",
      "Requirement already satisfied: contourpy>=1.0.1 in /home/user/mambaforge/lib/python3.9/site-packages (from matplotlib->roboflow) (1.1.0)\n",
      "Requirement already satisfied: fonttools>=4.22.0 in /home/user/mambaforge/lib/python3.9/site-packages (from matplotlib->roboflow) (4.41.1)\n",
      "Requirement already satisfied: packaging>=20.0 in /home/user/mambaforge/lib/python3.9/site-packages (from matplotlib->roboflow) (23.1)\n",
      "Requirement already satisfied: importlib-resources>=3.2.0 in /home/user/mambaforge/lib/python3.9/site-packages (from matplotlib->roboflow) (6.0.0)\n",
      "Requirement already satisfied: charset-normalizer<4,>=2 in /home/user/mambaforge/lib/python3.9/site-packages (from requests->roboflow) (2.0.12)\n",
      "Collecting opencv-python-headless<5.0.0.0,>=4.8.0.74 (from supervision->roboflow)\n",
      "  Obtaining dependency information for opencv-python-headless<5.0.0.0,>=4.8.0.74 from https://files.pythonhosted.org/packages/76/02/f128517f3ade4bb5f71e2afd8461dba70e3f466ce745fa1fd1fade9ad1b7/opencv_python_headless-4.8.0.74-cp37-abi3-manylinux_2_17_x86_64.manylinux2014_x86_64.whl.metadata\n",
      "  Downloading opencv_python_headless-4.8.0.74-cp37-abi3-manylinux_2_17_x86_64.manylinux2014_x86_64.whl.metadata (19 kB)\n",
      "Collecting Pillow>=7.1.2 (from roboflow)\n",
      "  Downloading Pillow-8.4.0-cp39-cp39-manylinux_2_17_x86_64.manylinux2014_x86_64.whl (3.1 MB)\n",
      "\u001b[2K     \u001b[90m━━━━━━━━━━━━━━━━━━━━━━━━━━━━━━━━━━━━━━━━\u001b[0m \u001b[32m3.1/3.1 MB\u001b[0m \u001b[31m27.8 MB/s\u001b[0m eta \u001b[36m0:00:00\u001b[0m00:01\u001b[0m00:01\u001b[0m\n",
      "\u001b[?25hRequirement already satisfied: zipp>=3.1.0 in /home/user/mambaforge/lib/python3.9/site-packages (from importlib-resources>=3.2.0->matplotlib->roboflow) (3.16.2)\n",
      "Downloading roboflow-1.1.2-py3-none-any.whl (57 kB)\n",
      "\u001b[2K   \u001b[90m━━━━━━━━━━━━━━━━━━━━━━━━━━━━━━━━━━━━━━━━\u001b[0m \u001b[32m57.4/57.4 kB\u001b[0m \u001b[31m7.5 MB/s\u001b[0m eta \u001b[36m0:00:00\u001b[0m\n",
      "\u001b[?25hDownloading supervision-0.12.0-py3-none-any.whl (48 kB)\n",
      "\u001b[2K   \u001b[90m━━━━━━━━━━━━━━━━━━━━━━━━━━━━━━━━━━━━━━━━\u001b[0m \u001b[32m48.5/48.5 kB\u001b[0m \u001b[31m8.0 MB/s\u001b[0m eta \u001b[36m0:00:00\u001b[0m\n",
      "\u001b[?25hDownloading opencv_python_headless-4.8.0.74-cp37-abi3-manylinux_2_17_x86_64.manylinux2014_x86_64.whl (49.1 MB)\n",
      "\u001b[2K   \u001b[90m━━━━━━━━━━━━━━━━━━━━━━━━━━━━━━━━━━━━━━━━\u001b[0m \u001b[32m49.1/49.1 MB\u001b[0m \u001b[31m12.0 MB/s\u001b[0m eta \u001b[36m0:00:00\u001b[0m00:01\u001b[0m00:01\u001b[0m\n",
      "\u001b[?25hBuilding wheels for collected packages: wget\n",
      "  Building wheel for wget (setup.py) ... \u001b[?25ldone\n",
      "\u001b[?25h  Created wheel for wget: filename=wget-3.2-py3-none-any.whl size=9657 sha256=b851a1cfe3ad1577cf2e89ee28d020cbb21d3a15bd00b65d8e9b6ba3f421c982\n",
      "  Stored in directory: /home/user/.cache/pip/wheels/04/5f/3e/46cc37c5d698415694d83f607f833f83f0149e49b3af9d0f38\n",
      "Successfully built wget\n",
      "Installing collected packages: wget, python-dotenv, pyparsing, Pillow, opencv-python-headless, idna, cycler, chardet, certifi, supervision, roboflow\n",
      "  Attempting uninstall: pyparsing\n",
      "    Found existing installation: pyparsing 3.0.9\n",
      "    Uninstalling pyparsing-3.0.9:\n",
      "      Successfully uninstalled pyparsing-3.0.9\n",
      "  Attempting uninstall: Pillow\n",
      "    Found existing installation: Pillow 9.4.0\n",
      "    Uninstalling Pillow-9.4.0:\n",
      "      Successfully uninstalled Pillow-9.4.0\n",
      "  Attempting uninstall: idna\n",
      "    Found existing installation: idna 3.3\n",
      "    Uninstalling idna-3.3:\n",
      "      Successfully uninstalled idna-3.3\n",
      "  Attempting uninstall: cycler\n",
      "    Found existing installation: cycler 0.11.0\n",
      "    Uninstalling cycler-0.11.0:\n",
      "      Successfully uninstalled cycler-0.11.0\n",
      "  Attempting uninstall: certifi\n",
      "    Found existing installation: certifi 2022.5.18.1\n",
      "    Uninstalling certifi-2022.5.18.1:\n",
      "      Successfully uninstalled certifi-2022.5.18.1\n",
      "Successfully installed Pillow-8.4.0 certifi-2022.12.7 chardet-4.0.0 cycler-0.10.0 idna-2.10 opencv-python-headless-4.8.0.74 pyparsing-2.4.7 python-dotenv-1.0.0 roboflow-1.1.2 supervision-0.12.0 wget-3.2\n"
     ]
    }
   ],
   "source": [
    "!pip install roboflow"
   ]
  },
  {
   "cell_type": "code",
   "execution_count": 13,
   "id": "cfacd8d0-64ce-4555-82be-cab39b428d4a",
   "metadata": {},
   "outputs": [
    {
     "name": "stdout",
     "output_type": "stream",
     "text": [
      "/app/notebooks/tmp\n"
     ]
    }
   ],
   "source": [
    "%cd /app/notebooks/tmp"
   ]
  },
  {
   "cell_type": "code",
   "execution_count": 14,
   "id": "ef4bd4fb-eb1b-4300-946a-39915409a52b",
   "metadata": {},
   "outputs": [
    {
     "name": "stdout",
     "output_type": "stream",
     "text": [
      "loading Roboflow workspace...\n",
      "loading Roboflow project...\n",
      "Downloading Dataset Version Zip in Pistols-1 to yolov5pytorch: 60% [36790272 / 61271142] bytes"
     ]
    },
    {
     "name": "stderr",
     "output_type": "stream",
     "text": [
      "IOPub message rate exceeded.\n",
      "The Jupyter server will temporarily stop sending output\n",
      "to the client in order to avoid crashing it.\n",
      "To change this limit, set the config variable\n",
      "`--ServerApp.iopub_msg_rate_limit`.\n",
      "\n",
      "Current values:\n",
      "ServerApp.iopub_msg_rate_limit=1000.0 (msgs/sec)\n",
      "ServerApp.rate_limit_window=3.0 (secs)\n",
      "\n"
     ]
    },
    {
     "name": "stdout",
     "output_type": "stream",
     "text": [
      "Downloading Dataset Version Zip in Pistols-1 to yolov5pytorch: 100% [61271142 / 61271142] bytes\n"
     ]
    },
    {
     "name": "stderr",
     "output_type": "stream",
     "text": [
      "Extracting Dataset Version Zip to Pistols-1 in yolov5pytorch:: 100%|██████████| 5945/5945 [00:48<00:00, 123.74it/s]\n"
     ]
    }
   ],
   "source": [
    "from roboflow import Roboflow\n",
    "API_KEY = \"<YOUR_API_KEY>\"\n",
    "\n",
    "rf = Roboflow(api_key=API_KEY)\n",
    "project = rf.workspace(\"joseph-nelson\").project(\"pistols\")\n",
    "dataset = project.version(1).download(\"yolov5\")"
   ]
  },
  {
   "cell_type": "markdown",
   "id": "b7b94990-24af-4847-a562-cd899c178f8a",
   "metadata": {},
   "source": [
    "This dataset contains a data.yaml file which describes the dataset."
   ]
  },
  {
   "cell_type": "code",
   "execution_count": 15,
   "id": "97a632e7-3395-4af4-8547-7886286e9097",
   "metadata": {},
   "outputs": [
    {
     "name": "stdout",
     "output_type": "stream",
     "text": [
      "/app/notebooks/tmp/Pistols-1\n",
      "names:\n",
      "- pistol\n",
      "nc: 1\n",
      "train: Pistols-1/train/images\n",
      "val: Pistols-1/valid/images\n"
     ]
    }
   ],
   "source": [
    "%cd /app/notebooks/tmp/Pistols-1\n",
    "%cat data.yaml"
   ]
  },
  {
   "cell_type": "markdown",
   "id": "28c9a985-a211-41c5-9eca-732cf46e7caa",
   "metadata": {},
   "source": [
    "## YoloV4 Model architecture\n",
    "We can have a look at the ScaledYolov4 Model architecture."
   ]
  },
  {
   "cell_type": "code",
   "execution_count": 16,
   "id": "78e53762-5c65-4caa-8603-af06d12b9383",
   "metadata": {},
   "outputs": [
    {
     "name": "stdout",
     "output_type": "stream",
     "text": [
      "# parameters\n",
      "nc: 80  # number of classes\n",
      "depth_multiple: 1.0  # model depth multiple\n",
      "width_multiple: 1.0  # layer channel multiple\n",
      "\n",
      "# anchors\n",
      "anchors:\n",
      "  - [12,16, 19,36, 40,28]  # P3/8\n",
      "  - [36,75, 76,55, 72,146]  # P4/16\n",
      "  - [142,110, 192,243, 459,401]  # P5/32\n",
      "\n",
      "# yolov4-csp backbone\n",
      "backbone:\n",
      "  # [from, number, module, args]\n",
      "  [[-1, 1, Conv, [32, 3, 1]],  # 0\n",
      "   [-1, 1, Conv, [64, 3, 2]],  # 1-P1/2\n",
      "   [-1, 1, Bottleneck, [64]],\n",
      "   [-1, 1, Conv, [128, 3, 2]],  # 3-P2/4\n",
      "   [-1, 2, BottleneckCSP, [128]],\n",
      "   [-1, 1, Conv, [256, 3, 2]],  # 5-P3/8\n",
      "   [-1, 8, BottleneckCSP, [256]],\n",
      "   [-1, 1, Conv, [512, 3, 2]],  # 7-P4/16\n",
      "   [-1, 8, BottleneckCSP, [512]],\n",
      "   [-1, 1, Conv, [1024, 3, 2]], # 9-P5/32\n",
      "   [-1, 4, BottleneckCSP, [1024]],  # 10\n",
      "  ]\n",
      "\n",
      "# yolov4-csp head\n",
      "# na = len(anchors[0])\n",
      "head:\n",
      "  [[-1, 1, SPPCSP, [512]], # 11\n",
      "   [-1, 1, Conv, [256, 1, 1]],\n",
      "   [-1, 1, nn.Upsample, [None, 2, 'nearest']],\n",
      "   [8, 1, Conv, [256, 1, 1]], # route backbone P4\n",
      "   [[-1, -2], 1, Concat, [1]],\n",
      "   [-1, 2, BottleneckCSP2, [256]], # 16 \n",
      "   [-1, 1, Conv, [128, 1, 1]],\n",
      "   [-1, 1, nn.Upsample, [None, 2, 'nearest']],\n",
      "   [6, 1, Conv, [128, 1, 1]], # route backbone P3\n",
      "   [[-1, -2], 1, Concat, [1]],\n",
      "   [-1, 2, BottleneckCSP2, [128]], # 21\n",
      "   [-1, 1, Conv, [256, 3, 1]],\n",
      "   [-2, 1, Conv, [256, 3, 2]],\n",
      "   [[-1, 16], 1, Concat, [1]],  # cat\n",
      "   [-1, 2, BottleneckCSP2, [256]], # 25\n",
      "   [-1, 1, Conv, [512, 3, 1]],\n",
      "   [-2, 1, Conv, [512, 3, 2]],\n",
      "   [[-1, 11], 1, Concat, [1]],  # cat\n",
      "   [-1, 2, BottleneckCSP2, [512]], # 29\n",
      "   [-1, 1, Conv, [1024, 3, 1]],\n",
      "\n",
      "   [[22,26,30], 1, Detect, [nc, anchors]],   # Detect(P3, P4, P5)\n",
      "  ]\n"
     ]
    }
   ],
   "source": [
    "%cat /app/notebooks/ScaledYOLOv4/models/yolov4-csp.yaml"
   ]
  },
  {
   "cell_type": "markdown",
   "id": "85756c1d-80dc-4d02-918a-8b85736d350b",
   "metadata": {},
   "source": [
    "## Start training\n",
    "Next, we train scaled-YOLOv4 on custom data for 100 epochs and time its performance"
   ]
  },
  {
   "cell_type": "code",
   "execution_count": 18,
   "id": "1f88363f-765b-4179-a5bf-dd6d741e5a06",
   "metadata": {},
   "outputs": [
    {
     "name": "stdout",
     "output_type": "stream",
     "text": [
      "/app/notebooks/ScaledYOLOv4\n",
      "Traceback (most recent call last):\n",
      "  File \"/app/notebooks/ScaledYOLOv4/train.py\", line 20, in <module>\n",
      "    import test  # import test.py to get mAP after each epoch\n",
      "  File \"/app/notebooks/ScaledYOLOv4/test.py\", line 13, in <module>\n",
      "    from models.experimental import attempt_load\n",
      "  File \"/app/notebooks/ScaledYOLOv4/models/experimental.py\", line 7, in <module>\n",
      "    from models.common import Conv, DWConv\n",
      "  File \"/app/notebooks/ScaledYOLOv4/models/common.py\", line 7, in <module>\n",
      "    from mish_cuda import MishCuda as Mish\n",
      "ModuleNotFoundError: No module named 'mish_cuda'\n",
      "CPU times: user 12.8 ms, sys: 15.6 ms, total: 28.3 ms\n",
      "Wall time: 1.52 s\n"
     ]
    }
   ],
   "source": [
    "%%time\n",
    "%cd /app/notebooks/ScaledYOLOv4\n",
    "!python train.py --img 416 --batch 16 --epochs 100 --data '../tmp/Pistols-1/data.yaml' --cfg ./models/yolov4-csp.yaml --weights '' --name yolov4-csp-results  --cache"
   ]
  },
  {
   "cell_type": "code",
   "execution_count": null,
   "id": "129fc0b1-429e-479c-9733-c33e417bc73f",
   "metadata": {},
   "outputs": [],
   "source": []
  }
 ],
 "metadata": {
  "kernelspec": {
   "display_name": "Python 3 (ipykernel)",
   "language": "python",
   "name": "python3"
  },
  "language_info": {
   "codemirror_mode": {
    "name": "ipython",
    "version": 3
   },
   "file_extension": ".py",
   "mimetype": "text/x-python",
   "name": "python",
   "nbconvert_exporter": "python",
   "pygments_lexer": "ipython3",
   "version": "3.9.13"
  }
 },
 "nbformat": 4,
 "nbformat_minor": 5
}
